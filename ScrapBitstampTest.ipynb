{
 "cells": [
  {
   "cell_type": "code",
   "execution_count": 1,
   "metadata": {},
   "outputs": [],
   "source": [
    "import json\n",
    "import requests\n",
    "from datetime import datetime\n",
    "import pytz"
   ]
  },
  {
   "cell_type": "code",
   "execution_count": 2,
   "metadata": {},
   "outputs": [],
   "source": [
    "currency_pair = \"btcusd\"\n",
    "# ohlc_url = f\"https://www.bitstamp.net/api/v2/ticker/{currency_pair}/\"\n",
    "ohlc_url = f'https://www.bitstamp.net/api/v2/ohlc/{currency_pair}/?step=3600&limit=1'\n",
    "hour_url = \"http://127.0.0.1:8000/scrap/api/bitstamphour/add\"\n",
    "day_url = \"http://127.0.0.1:8000/scrap/api/bitstamp/add\"\n",
    "error_log_url = \"http://127.0.0.1:8000/scrap/api/error_log/add/\""
   ]
  },
  {
   "cell_type": "code",
   "execution_count": 4,
   "metadata": {},
   "outputs": [],
   "source": [
    "def call_bitsamp_api(ohlc_url,api_endpoint,error_log_url):\n",
    "    ohlc_data_dict = {}\n",
    "\n",
    "    try:\n",
    "        data = requests.get(ohlc_url)\n",
    "\n",
    "        bitstamp_data = data.json()['data']\n",
    "\n",
    "        ohlc_data = bitstamp_data['ohlc'][0]\n",
    "        ohlc_data['unix'] = ohlc_data.pop('timestamp')\n",
    "        ohlc_data['volume_btc'] = ohlc_data.pop('volume')\n",
    "        # Convert the Unix timestamp to UTC time\n",
    "        ohlc_data['date'] = datetime.utcfromtimestamp(int(ohlc_data['unix'])).strftime('%Y-%m-%dT%H:%M:%S')\n",
    "        \n",
    "        # PROD\n",
    "        # ohlc_data['symbol'] = bitstamp_data['pair']\n",
    "\n",
    "        # TEST\n",
    "        ohlc_data['symbol'] = 'TEST'\n",
    "\n",
    "        # Convert the timestamp to datetime and localize it to UTC\n",
    "        dt = datetime.fromtimestamp(int(ohlc_data['unix']), tz=pytz.UTC)\n",
    "        # Convert the datetime to Kuala Lumpur time\n",
    "        kl_time = dt.astimezone(pytz.timezone('Asia/Kuala_Lumpur'))\n",
    "        ohlc_data['local_date'] = kl_time.strftime('%Y-%m-%dT%H:%M:%S')\n",
    "\n",
    "        # Convert 'volume' and 'close' to float before multiplication\n",
    "        ohlc_data['volume_usd'] = float(ohlc_data['volume_btc']) * float(ohlc_data['close'])\n",
    "        \n",
    "        ohlc_json = json.dumps(ohlc_data)\n",
    "\n",
    "        # Convert the string to a dictionary\n",
    "        ohlc_data_dict = json.loads(ohlc_json)\n",
    "\n",
    "    except Exception as e:\n",
    "        print(e)\n",
    "        error = {\n",
    "            \"error_message\": e.message if hasattr(e, 'message') else str(e),\n",
    "            \"error_source\": 'when calling bitstamp official api',\n",
    "            \"error_type\": 'bitstamp api error',\n",
    "            \"error_content\": data.to_dict() if hasattr(data, 'to_dict') else str(data)\n",
    "        }\n",
    "        requests.post(error_log_url, data=error)\n",
    "        \n",
    "    try:\n",
    "        response = requests.post(api_endpoint, json=ohlc_data_dict)\n",
    "        if response.status_code == 200:\n",
    "            print('Data successfully added to the database')\n",
    "        else:\n",
    "\n",
    "            error_data = {\n",
    "                \"error_source\": 'Bitstamp API',\n",
    "                \"error_type\": response.text,\n",
    "                \"error_content\": api_endpoint,\n",
    "                \"error_message\": \"Calling bitstamp store api\"\n",
    "            }\n",
    "            requests.post(error_log_url, json=error_data)\n",
    "    except requests.exceptions.RequestException as e:\n",
    "        error_data = {\n",
    "        \"error_source\": 'Bitstamp API',\n",
    "        \"error_type\": response.text,\n",
    "        \"error_content\": api_endpoint,\n",
    "        \"error_message\": e.message if hasattr(e, 'message') else str(e),\n",
    "        }\n",
    "        requests.post(error_log_url, json=error_data)\n",
    "        print(e)\n"
   ]
  },
  {
   "cell_type": "code",
   "execution_count": 5,
   "metadata": {},
   "outputs": [
    {
     "name": "stderr",
     "output_type": "stream",
     "text": [
      "C:\\Users\\Zhong_ming_Tan\\AppData\\Local\\Temp\\ipykernel_24932\\3175002737.py:11: DeprecationWarning: datetime.datetime.utcfromtimestamp() is deprecated and scheduled for removal in a future version. Use timezone-aware objects to represent datetimes in UTC: datetime.datetime.fromtimestamp(timestamp, datetime.UTC).\n",
      "  ohlc_data['date'] = datetime.datetime.utcfromtimestamp(int(ohlc_data['unix'])).strftime('%Y-%m-%dT%H:%M:%S')\n"
     ]
    },
    {
     "name": "stdout",
     "output_type": "stream",
     "text": [
      "Data successfully added to the database\n",
      "Data successfully added to the database\n"
     ]
    }
   ],
   "source": [
    "call_bitsamp_api(ohlc_url,hour_url,error_log_url)\n",
    "call_bitsamp_api(ohlc_url,day_url,error_log_url)"
   ]
  }
 ],
 "metadata": {
  "kernelspec": {
   "display_name": "fws-dell",
   "language": "python",
   "name": "python3"
  },
  "language_info": {
   "codemirror_mode": {
    "name": "ipython",
    "version": 3
   },
   "file_extension": ".py",
   "mimetype": "text/x-python",
   "name": "python",
   "nbconvert_exporter": "python",
   "pygments_lexer": "ipython3",
   "version": "3.12.1"
  }
 },
 "nbformat": 4,
 "nbformat_minor": 2
}
