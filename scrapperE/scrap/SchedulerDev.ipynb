{
 "cells": [
  {
   "cell_type": "code",
   "execution_count": 2,
   "metadata": {},
   "outputs": [],
   "source": [
    "import requests"
   ]
  },
  {
   "cell_type": "code",
   "execution_count": 3,
   "metadata": {},
   "outputs": [],
   "source": [
    "# Importing the logging module\n",
    "import logging\n",
    "\n",
    "# Setting the basic configuration for logging, such as the level, the format and the file name\n",
    "logging.basicConfig(level=logging.DEBUG, format='%(asctime)s - %(levelname)s - %(message)s', filename='example.log')\n",
    "\n",
    "# Creating a logger object\n",
    "logger = logging.getLogger()"
   ]
  },
  {
   "cell_type": "code",
   "execution_count": 8,
   "metadata": {},
   "outputs": [],
   "source": [
    "# http://127.0.0.1:8000/scrap/api/bitstamp/save_daily"
   ]
  },
  {
   "cell_type": "code",
   "execution_count": 9,
   "metadata": {},
   "outputs": [],
   "source": [
    "server_url = 'http://127.0.0.1:8000'\n",
    "api_url = f'{server_url}/scrap/api'\n",
    "save_daily = requests.get(f'{api_url}/bitstamp/save_daily')\n",
    "save_hourly = requests.get(f'{api_url}/bitstamp/save_hourly')\n",
    "scrap_today = requests.get(f'{server_url}/scrap/scrap_today')"
   ]
  },
  {
   "cell_type": "code",
   "execution_count": 6,
   "metadata": {},
   "outputs": [
    {
     "data": {
      "text/plain": [
       "'Triggered Bitstamp API daily data'"
      ]
     },
     "execution_count": 6,
     "metadata": {},
     "output_type": "execute_result"
    }
   ],
   "source": [
    "save_daily"
   ]
  },
  {
   "cell_type": "code",
   "execution_count": 9,
   "metadata": {},
   "outputs": [],
   "source": [
    "# Importing the logging module\n",
    "import logging\n",
    "\n",
    "# Setting the basic configuration for logging, such as the level, the format and the file name\n",
    "logging.basicConfig(level=logging.DEBUG, format='%(asctime)s - %(levelname)s - %(message)s', filename='example.log')\n",
    "\n",
    "# Creating a logger object\n",
    "logger = logging.getLogger()\n",
    "\n",
    "# Logging some messages with different levels\n",
    "logger.debug('This is a debug message')\n",
    "logger.info('This is an info message')\n",
    "logger.warning('This is a warning message')\n",
    "logger.error('This is an error message')\n",
    "logger.critical('This is a critical message')"
   ]
  },
  {
   "cell_type": "code",
   "execution_count": 10,
   "metadata": {},
   "outputs": [],
   "source": [
    "# Close the file handler to release the file\n",
    "for handler in logger.handlers:\n",
    "    handler.close()\n",
    "\n",
    "# Now you should be able to delete the example.log file\n",
    "# import os\n",
    "# os.remove('example.log')"
   ]
  }
 ],
 "metadata": {
  "kernelspec": {
   "display_name": "fws-dell",
   "language": "python",
   "name": "python3"
  },
  "language_info": {
   "codemirror_mode": {
    "name": "ipython",
    "version": 3
   },
   "file_extension": ".py",
   "mimetype": "text/x-python",
   "name": "python",
   "nbconvert_exporter": "python",
   "pygments_lexer": "ipython3",
   "version": "3.12.1"
  }
 },
 "nbformat": 4,
 "nbformat_minor": 2
}
