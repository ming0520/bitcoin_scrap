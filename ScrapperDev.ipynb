{
 "cells": [
  {
   "cell_type": "code",
   "execution_count": 19,
   "metadata": {},
   "outputs": [],
   "source": [
    "# !pip install praw"
   ]
  },
  {
   "cell_type": "code",
   "execution_count": 20,
   "metadata": {},
   "outputs": [],
   "source": [
    "# import requests\n",
    "# from bs4 import BeautifulSoup\n",
    "# import facebook_scraper\n",
    "# from facebook_scraper import get_posts"
   ]
  },
  {
   "cell_type": "code",
   "execution_count": 55,
   "metadata": {},
   "outputs": [],
   "source": [
    "import praw\n",
    "from datetime import datetime, timedelta\n",
    "\n",
    "reddit = praw.Reddit(client_id='mTF5k367VUFFmQ', client_secret='mjhD5xlOjtzDM8uovN9mzkhVOC2KbA', user_agent='User-Agent: Mozilla/5.0')\n",
    "subreddit = reddit.subreddit('BitcoinBeginners')"
   ]
  },
  {
   "cell_type": "code",
   "execution_count": 56,
   "metadata": {},
   "outputs": [
    {
     "name": "stdout",
     "output_type": "stream",
     "text": [
      "Name of the subreddit.: BitcoinBeginners\n",
      "ID of the subreddit.: 2wju0\n",
      "Fullname of the subreddit: t5_2wju0\n",
      "Created at: 2013-03-06 19:35:47\n",
      "Number of subscribers: 1091180\n",
      "Is for over 18: False\n"
     ]
    }
   ],
   "source": [
    "print(\"Name of the subreddit.:\", subreddit.display_name)\n",
    "print(\"ID of the subreddit.:\", subreddit.id)\n",
    "print(\"Fullname of the subreddit:\", subreddit.name)\n",
    "# print(\"Title:\", subreddit.title)\n",
    "# print(\"Description:\", subreddit.description)\n",
    "print(\"Created at:\", datetime.fromtimestamp(subreddit.created_utc))\n",
    "print(\"Number of subscribers:\", subreddit.subscribers)\n",
    "print(\"Is for over 18:\", subreddit.over18)\n",
    "# print(\"Public description:\", subreddit.public_description)"
   ]
  },
  {
   "cell_type": "code",
   "execution_count": 37,
   "metadata": {},
   "outputs": [],
   "source": [
    "from django.utils.timezone import make_aware"
   ]
  },
  {
   "cell_type": "code",
   "execution_count": 52,
   "metadata": {},
   "outputs": [
    {
     "name": "stdout",
     "output_type": "stream",
     "text": [
      "The importance of a 3x increase\n",
      "1708148391.0\n",
      "2024-02-17 13:39:51\n"
     ]
    }
   ],
   "source": [
    "# https://www.reddit.com/r/Bitcoin/comments/xlwg6u/rbitcoin_is_already_the_40_biggest_community_in/\n",
    "submission = reddit.submission(\"1asujh6\")\n",
    "# redditor1 = submission.author\n",
    "print(submission.title)\n",
    "# print(redditor1.is_suspended)\n",
    "# print(redditor1.link_karma)\n",
    "# print(submission.upvote_ratio)\n",
    "# print(len(submission.id))\n",
    "# print(submission.selftext)\n",
    "print(submission.created_utc)\n",
    "submission_time = datetime.fromtimestamp(submission.created_utc)\n",
    "print(submission_time)\n",
    "# print(make_aware(submission_time))"
   ]
  },
  {
   "cell_type": "code",
   "execution_count": 81,
   "metadata": {},
   "outputs": [
    {
     "name": "stdout",
     "output_type": "stream",
     "text": [
      "[Comment(id='krk1lpf'), Comment(id='krk1jfh')]\n",
      "[Comment(id='krk1lpf'), Comment(id='krk1jfh'), Comment(id='krk1unz')]\n"
     ]
    }
   ],
   "source": [
    "top_level_comments = list(submission.comments)\n",
    "all_comments = submission.comments.list()\n",
    "print(top_level_comments)\n",
    "print(all_comments)"
   ]
  },
  {
   "cell_type": "code",
   "execution_count": 17,
   "metadata": {},
   "outputs": [
    {
     "name": "stdout",
     "output_type": "stream",
     "text": [
      "SHA-256 Under the Hood https://medium.com/@PicKeyAI/sha-256-under-the-hood-83e332c468ef \n",
      "New JoinMarket release, v0.9.11 https://github.com/JoinMarket-Org/joinmarket-clientserver/releases/tag/v0.9.11 \n",
      "ECB: \"Bitcoin has failed to become a global decentralised digital currency, instead falling victim to fraud and manipulation.\" https://i.redd.it/52u2a1mlt3kc1.png \n",
      "Bitcoin as Payment? UK Prime Minister Dismisses Allegations of Bitcoin or $1 Million Payment for Interview https://dailycoinpost.com/bitcoin-as-payment-uk-prime-minister-dismisses-allegations-of-bitcoin-or-1-million-payment-for-interview/ \n",
      "Query https://www.reddit.com/r/Bitcoin/comments/1ax1tto/query/ Not sure if im commenting in the write section here, I dont usually use reddit. Apologies if so. Ive been holding btc for a few years now, playing the long haul but recently I did a swing trade and that trade happened to be right at the beginning of the recent heavy bull market. So I sold out at 43500, and now obviously I watch anxiously for it to drop back down somewhere near my exit point to quickly buy back into the market and once again be apart of the cash cow. But the anxiety of this not happening and it flying upwards again (which we know it will at some point) is becoming too much. I think about it way too much and I'm wondering if maybe I should just cut my losses and buy back in with a 1k profit loss or if were going to have a pre halving bear market giving me my opportunity. Disclaimer, I know ultimately no one can say for sure, but my knowledge is actually very limited, and any thoughts would be very helpfull :)\n",
      "51% attack soon?  https://www.reddit.com/r/Bitcoin/comments/1ax0xty/51_attack_soon/ Apple just changed the encryption in iMessage to prevent against quantum computing(no longer SHA 256)… this is much earlier than I thought… talks of quantum computing seems to be futuristic, yet Apple just took a preventative step!!! \n",
      "\n",
      "My question:\n",
      "Can the bitcoin, net work adapt a new algorithm (the same way Apple just did) as a preventative measure to enhance security in order to prevent a 51% attack for mining?\n",
      "\n",
      "I’m not really worried about quantum computing, guessing private keys I’m more worried about quantum computing being used for 51% attack.\n",
      " \n",
      "I’m aware that if SHA 256 is hacked, much more is at risk in this world than bitcoin…\n",
      "\n",
      "I just want to know what the road map would look like for upgrading the Bitcoin network to something stronger than SHA 256\n",
      "\n",
      "\n",
      "I Want to get a loan that I can pay back in bitcoin (would this avoid capital gains tax) . Does anyone know of a reputable company that does this .  https://www.reddit.com/r/Bitcoin/comments/1ax07z9/i_want_to_get_a_loan_that_i_can_pay_back_in/ \n",
      "⚡ Lightning Thursday! February 22, 2024: Explore the Lightning Network!⚡ https://www.reddit.com/r/Bitcoin/comments/1ax07u3/lightning_thursday_february_22_2024_explore_the/ The lightning network is a second-layer solution on top of the Bitcoin blockchain that enables quick, cheap and scalable Bitcoin payments.\n",
      "\n",
      "Here is the place to discuss and learn more about lightning!\n",
      "\n",
      "Ask your questions about lightning\n",
      "\n",
      "Provide reviews, feedback, comparisons of LN apps, services, websites etc\n",
      "\n",
      "Learn about new LN features, development, apps\n",
      "\n",
      "Link to good quality resources (articles, wikis etc)\n",
      "\n",
      "Resources:\n",
      "\n",
      "* Here is an awesome list of resources compiled by Jameson Lopp: https://www.lopp.net/lightning-information.html\n",
      "\n",
      "* Want to test out your lightning fire power? tip the Bitcoin devs! https://bitcoindevlist.com/\n",
      "\n",
      "* Previous threads: [Search](https://www.reddit.com/r/Bitcoin/search?q=Lightning+Thursday&restrict_sr=on&include_over_18=on&sort=new&t=all)\n",
      "\n",
      "* Lnbook getting closer towards being finished and can already be seen at: https://github.com/lnbook/lnbook\n",
      "\n",
      "* Lightning Dedicated YouTube Channel: https://youtube.com/renepickhardt\n",
      "\n",
      "* Also there is the playlist by chaincode labs: https://youtube.com/playlist?list=PLpLH33TRghT17_U3as2P3vHfAGL8pSOOY\n",
      "\n",
      "* Lightning stores: https://www.lightningnetworkstores.com/\n",
      "\n",
      "* Learn more and talk about lightning right here in r/Bitcoin, r/bitcoinbeginners, r/thelightningnetwork, and [the r/Bitcoin chat](https://discord.gg/qE3rWBRNqh)\n",
      "Best book on bitcoin? https://www.reddit.com/r/Bitcoin/comments/1ax06jv/best_book_on_bitcoin/ I am dyslexic, and have trouble with reading. My father reads alot of books. He understands bitcoin from what I have told him. I would love to get him a book that can explain it to him. What would you recommend? Thanks\n",
      "Bitcoin loan  https://www.reddit.com/r/Bitcoin/comments/1awzb4u/bitcoin_loan/ Can anyone tell me a reputable firm that I can borrow against my BTC in order to pay off some credit card debt? \n"
     ]
    }
   ],
   "source": [
    "# Get the current date and time\n",
    "now = datetime.now()\n",
    "\n",
    "# for submission in subreddit.new(limit=100): \n",
    "#     print(submission.title, submission.url, submission.created_utc, datetime.fromtimestamp(submission.created_utc))\n",
    "\n",
    "# only today post\n",
    "for submission in subreddit.new(limit=10):\n",
    "    # Convert the submission's timestamp to a datetime object\n",
    "    submission_time = datetime.fromtimestamp(submission.created_utc)\n",
    "    # print(submission.title)\n",
    "\n",
    "    # If the submission was posted today\n",
    "    if submission_time.date() == now.date():\n",
    "        print(\n",
    "              submission.title, \n",
    "                submission.url, \n",
    "            #   submission.created_utc, \n",
    "            #   datetime.fromtimestamp(submission.created_utc), \n",
    "              submission.selftext,\n",
    "                # submission.id,\n",
    "                # submission.author,\n",
    "                # submission.score,\n",
    "                # submission.permalink,\n",
    "                )"
   ]
  },
  {
   "cell_type": "code",
   "execution_count": 7,
   "metadata": {},
   "outputs": [
    {
     "name": "stdout",
     "output_type": "stream",
     "text": [
      "['bitcoin', 'bitcoins', 'Bitcoin', 'Bitcoins', 'BTC', 'XBT', 'satoshi', '$XBT', '#BTC', '$BTC', '#Bitcoin', '#Bitcoins']\n"
     ]
    }
   ],
   "source": [
    "# keywords = [\"bitcoin\", \"bitcoins\", \"Bitcoin\", \"Bitcoins\", \"BTC\", \"XBT\", \"satoshi\",\n",
    "#               \"XBT\", \"$XBT\", \"#BTC\", \"$BTC\",\n",
    "#               \"Bitcoin\", \"BTC\", \"Bitcoins\",\n",
    "#               \"#Bitcoin\", \"#BTC\", \"#Bitcoins\"]\n",
    "\n",
    "# consolidated_keywords = list(dict.fromkeys(keywords))\n",
    "\n",
    "# print(consolidated_keywords)\n"
   ]
  },
  {
   "cell_type": "markdown",
   "metadata": {},
   "source": [
    "<!-- Zhang Hoon Jung\n",
    "6R-13, Lorong Ampang Hilir 5F, PJU14W, 21536 Bandar Ketengah Jaya, Terengganu\n",
    "August 10, 1992 -->"
   ]
  },
  {
   "cell_type": "code",
   "execution_count": 15,
   "metadata": {},
   "outputs": [],
   "source": [
    "# # Specify the Facebook page or profile you want to scrape\n",
    "# page_name = \"BillGates\"  # Replace with the desired page or profile name\n",
    "\n",
    "# # Get posts from the specified page\n",
    "# for post in get_posts(page_name, pages=1):\n",
    "#     post_text = post[\"text\"].lower()  # Convert post text to lowercase for case-insensitive matching\n",
    "#     if any(keyword.lower() in post_text for keyword in consolidated_keywords):\n",
    "#         print(f\"Post created at: {post['time']}\")\n",
    "#         print(f\"Post content: {post['text']}\\n\")\n",
    "#         # You can extract other relevant information from the post here\n",
    "\n",
    "# # Note: You'll need to install the 'facebook-scraper' library using pip.\n"
   ]
  },
  {
   "cell_type": "code",
   "execution_count": 16,
   "metadata": {},
   "outputs": [
    {
     "ename": "ValueError",
     "evalue": "You need to specify either account, group, or post_urls",
     "output_type": "error",
     "traceback": [
      "\u001b[1;31m---------------------------------------------------------------------------\u001b[0m",
      "\u001b[1;31mValueError\u001b[0m                                Traceback (most recent call last)",
      "Cell \u001b[1;32mIn[16], line 11\u001b[0m\n\u001b[0;32m      8\u001b[0m consolidated_keywords \u001b[38;5;241m=\u001b[39m \u001b[38;5;28mlist\u001b[39m(\u001b[38;5;28mdict\u001b[39m\u001b[38;5;241m.\u001b[39mfromkeys(keywords))\n\u001b[0;32m     10\u001b[0m \u001b[38;5;66;03m# Get posts containing any of the specified keywords\u001b[39;00m\n\u001b[1;32m---> 11\u001b[0m \u001b[38;5;28;01mfor\u001b[39;00m post \u001b[38;5;129;01min\u001b[39;00m \u001b[43mget_posts\u001b[49m\u001b[43m(\u001b[49m\u001b[43mpages\u001b[49m\u001b[38;5;241;43m=\u001b[39;49m\u001b[38;5;241;43m1\u001b[39;49m\u001b[43m)\u001b[49m:\n\u001b[0;32m     12\u001b[0m     post_text \u001b[38;5;241m=\u001b[39m post[\u001b[38;5;124m\"\u001b[39m\u001b[38;5;124mtext\u001b[39m\u001b[38;5;124m\"\u001b[39m]\u001b[38;5;241m.\u001b[39mlower()\n\u001b[0;32m     13\u001b[0m     \u001b[38;5;28;01mif\u001b[39;00m \u001b[38;5;28many\u001b[39m(keyword\u001b[38;5;241m.\u001b[39mlower() \u001b[38;5;129;01min\u001b[39;00m post_text \u001b[38;5;28;01mfor\u001b[39;00m keyword \u001b[38;5;129;01min\u001b[39;00m consolidated_keywords):\n",
      "File \u001b[1;32mc:\\Users\\Zhong_ming_Tan\\AppData\\Local\\anaconda3\\envs\\fws-dell\\Lib\\site-packages\\facebook_scraper\\__init__.py:188\u001b[0m, in \u001b[0;36mget_posts\u001b[1;34m(account, group, post_urls, hashtag, credentials, **kwargs)\u001b[0m\n\u001b[0;32m    185\u001b[0m valid_args \u001b[38;5;241m=\u001b[39m \u001b[38;5;28msum\u001b[39m(arg \u001b[38;5;129;01mis\u001b[39;00m \u001b[38;5;129;01mnot\u001b[39;00m \u001b[38;5;28;01mNone\u001b[39;00m \u001b[38;5;28;01mfor\u001b[39;00m arg \u001b[38;5;129;01min\u001b[39;00m (account, group, post_urls, hashtag))\n\u001b[0;32m    187\u001b[0m \u001b[38;5;28;01mif\u001b[39;00m valid_args \u001b[38;5;241m!=\u001b[39m \u001b[38;5;241m1\u001b[39m:\n\u001b[1;32m--> 188\u001b[0m     \u001b[38;5;28;01mraise\u001b[39;00m \u001b[38;5;167;01mValueError\u001b[39;00m(\u001b[38;5;124m\"\u001b[39m\u001b[38;5;124mYou need to specify either account, group, or post_urls\u001b[39m\u001b[38;5;124m\"\u001b[39m)\n\u001b[0;32m    190\u001b[0m _scraper\u001b[38;5;241m.\u001b[39mrequests_kwargs[\u001b[38;5;124m'\u001b[39m\u001b[38;5;124mtimeout\u001b[39m\u001b[38;5;124m'\u001b[39m] \u001b[38;5;241m=\u001b[39m kwargs\u001b[38;5;241m.\u001b[39mpop(\u001b[38;5;124m'\u001b[39m\u001b[38;5;124mtimeout\u001b[39m\u001b[38;5;124m'\u001b[39m, DEFAULT_REQUESTS_TIMEOUT)\n\u001b[0;32m    192\u001b[0m cookies \u001b[38;5;241m=\u001b[39m kwargs\u001b[38;5;241m.\u001b[39mpop(\u001b[38;5;124m'\u001b[39m\u001b[38;5;124mcookies\u001b[39m\u001b[38;5;124m'\u001b[39m, \u001b[38;5;28;01mNone\u001b[39;00m)\n",
      "\u001b[1;31mValueError\u001b[0m: You need to specify either account, group, or post_urls"
     ]
    }
   ],
   "source": [
    "# import facebook_scraper\n",
    "# from facebook_scraper import get_posts\n",
    "\n",
    "# # List of keywords to search for\n",
    "# keywords = [\"bitcoin\", \"bitcoins\", \"BTC\", \"XBT\", \"satoshi\", \"$XBT\", \"#BTC\", \"$BTC\"]\n",
    "\n",
    "# # Consolidate keywords (remove duplicates)\n",
    "# consolidated_keywords = list(dict.fromkeys(keywords))\n",
    "\n",
    "# # Get posts containing any of the specified keywords\n",
    "# for post in get_posts(pages=1):\n",
    "#     post_text = post[\"text\"].lower()\n",
    "#     if any(keyword.lower() in post_text for keyword in consolidated_keywords):\n",
    "#         print(f\"Post created at: {post['time']}\")\n",
    "#         print(f\"Post content: {post['text']}\\n\")\n",
    "#         # You can extract other relevant information from the post here\n",
    "\n",
    "# # Note: Adjust the logic inside the loop to suit your specific requirements.\n"
   ]
  }
 ],
 "metadata": {
  "kernelspec": {
   "display_name": "fws-dell",
   "language": "python",
   "name": "python3"
  },
  "language_info": {
   "codemirror_mode": {
    "name": "ipython",
    "version": 3
   },
   "file_extension": ".py",
   "mimetype": "text/x-python",
   "name": "python",
   "nbconvert_exporter": "python",
   "pygments_lexer": "ipython3",
   "version": "3.12.1"
  }
 },
 "nbformat": 4,
 "nbformat_minor": 2
}
