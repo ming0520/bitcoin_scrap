{
 "cells": [
  {
   "cell_type": "code",
   "execution_count": null,
   "metadata": {},
   "outputs": [],
   "source": [
    "import json\n",
    "import requests\n",
    "from datetime import datetime\n",
    "import pytz\n",
    "\n",
    "currency_pair = \"btcusd\"\n",
    "# ohlc_url = f\"https://www.bitstamp.net/api/v2/ticker/{currency_pair}/\"\n",
    "ohlc_url = f'https://www.bitstamp.net/api/v2/ohlc/{currency_pair}/?step=3600&limit=1'\n",
    "hour_url = \"http://127.0.0.1:8000/scrap/api/bitstamphour/add\"\n",
    "day_url = \"http://127.0.0.1:8000/scrap/api/bitstamp/add\"\n",
    "error_log_url = \"http://127.0.0.1:8000/scrap/api/error_log/add/\"\n",
    "\n",
    "def call_bitsamp_api(ohlc_url,api_endpoint,error_log_url):\n",
    "    ohlc_data_dict = {}\n",
    "\n",
    "    try:\n",
    "        data = requests.get(ohlc_url)\n",
    "\n",
    "        bitstamp_data = data.json()['data']\n",
    "\n",
    "        ohlc_data = bitstamp_data['ohlc'][0]\n",
    "        ohlc_data['unix'] = ohlc_data.pop('timestamp')\n",
    "        ohlc_data['volume_btc'] = ohlc_data.pop('volume')\n",
    "        # Convert the Unix timestamp to UTC time\n",
    "        ohlc_data['date'] = datetime.utcfromtimestamp(int(ohlc_data['unix'])).strftime('%Y-%m-%dT%H:%M:%S')\n",
    "        \n",
    "        # PROD\n",
    "        # ohlc_data['symbol'] = bitstamp_data['pair']\n",
    "\n",
    "        # TEST\n",
    "        ohlc_data['symbol'] = 'TEST'\n",
    "\n",
    "        # Convert the timestamp to datetime and localize it to UTC\n",
    "        dt = datetime.fromtimestamp(int(ohlc_data['unix']), tz=pytz.UTC)\n",
    "        # Convert the datetime to Kuala Lumpur time\n",
    "        kl_time = dt.astimezone(pytz.timezone('Asia/Kuala_Lumpur'))\n",
    "        ohlc_data['local_date'] = kl_time.strftime('%Y-%m-%dT%H:%M:%S')\n",
    "\n",
    "        # Convert 'volume' and 'close' to float before multiplication\n",
    "        ohlc_data['volume_usd'] = float(ohlc_data['volume_btc']) * float(ohlc_data['close'])\n",
    "        \n",
    "        ohlc_json = json.dumps(ohlc_data)\n",
    "\n",
    "        # Convert the string to a dictionary\n",
    "        ohlc_data_dict = json.loads(ohlc_json)\n",
    "\n",
    "    except Exception as e:\n",
    "        print(e)\n",
    "        error = {\n",
    "            \"error_message\": e.message if hasattr(e, 'message') else str(e),\n",
    "            \"error_source\": 'when calling bitstamp official api',\n",
    "            \"error_type\": 'bitstamp api error',\n",
    "            \"error_content\": data.to_dict() if hasattr(data, 'to_dict') else str(data)\n",
    "        }\n",
    "        requests.post(error_log_url, data=error)\n",
    "        \n",
    "    try:\n",
    "        response = requests.post(api_endpoint, json=ohlc_data_dict)\n",
    "        if response.status_code == 200:\n",
    "            print('Data successfully added to the database')\n",
    "        else:\n",
    "\n",
    "            error_data = {\n",
    "                \"error_source\": 'Bitstamp API',\n",
    "                \"error_type\": response.text,\n",
    "                \"error_content\": api_endpoint,\n",
    "                \"error_message\": \"Calling bitstamp store api\"\n",
    "            }\n",
    "            requests.post(error_log_url, json=error_data)\n",
    "    except requests.exceptions.RequestException as e:\n",
    "        error_data = {\n",
    "        \"error_source\": 'Bitstamp API',\n",
    "        \"error_type\": response.text,\n",
    "        \"error_content\": api_endpoint,\n",
    "        \"error_message\": e.message if hasattr(e, 'message') else str(e),\n",
    "        }\n",
    "        requests.post(error_log_url, json=error_data)\n",
    "        print(e)\n"
   ]
  },
  {
   "cell_type": "markdown",
   "metadata": {},
   "source": [
    "Dev"
   ]
  },
  {
   "cell_type": "code",
   "execution_count": 1,
   "metadata": {},
   "outputs": [],
   "source": [
    "import json\n",
    "import requests\n",
    "import datetime\n",
    "import pytz\n",
    "# import pandas as pd\n",
    "# import datetime\n",
    "# from datetime import date"
   ]
  },
  {
   "cell_type": "code",
   "execution_count": 9,
   "metadata": {},
   "outputs": [],
   "source": [
    "currency_pair = \"btcusd\"\n",
    "# ohlc_url = f\"https://www.bitstamp.net/api/v2/ticker/{currency_pair}/\"\n",
    "ohlc_url = f'https://www.bitstamp.net/api/v2/ohlc/{currency_pair}/?step=3600&limit=1'\n",
    "hour_url = \"http://127.0.0.1:8000/scrap/api/bitstamp/add\"\n",
    "error_log_url = \"http://127.0.0.1:8000/scrap/api/error_log/add/\""
   ]
  },
  {
   "cell_type": "code",
   "execution_count": 26,
   "metadata": {},
   "outputs": [
    {
     "name": "stderr",
     "output_type": "stream",
     "text": [
      "C:\\Users\\Zhong_ming_Tan\\AppData\\Local\\Temp\\ipykernel_42892\\1201533626.py:8: DeprecationWarning: datetime.datetime.utcfromtimestamp() is deprecated and scheduled for removal in a future version. Use timezone-aware objects to represent datetimes in UTC: datetime.datetime.fromtimestamp(timestamp, datetime.UTC).\n",
      "  ohlc_data['date'] = datetime.datetime.utcfromtimestamp(int(ohlc_data['unix'])).strftime('%Y-%m-%dT%H:%M:%S')\n"
     ]
    },
    {
     "data": {
      "text/plain": [
       "'{\"close\": \"51503\", \"high\": \"51763\", \"low\": \"51441\", \"open\": \"51735\", \"unix\": \"1708873200\", \"volume_btc\": \"42.98860061\", \"date\": \"2024-02-25T15:00:00\", \"symbol\": \"TEST\", \"local_date\": \"2024-02-25T23:00:00\", \"volume_usd\": 2214041.89721683}'"
      ]
     },
     "metadata": {},
     "output_type": "display_data"
    }
   ],
   "source": [
    "try:\n",
    "    data = requests.get(ohlc_url)\n",
    "    bitstamp_data = data.json()['data']\n",
    "    ohlc_data = bitstamp_data['ohlc'][0]\n",
    "    ohlc_data['unix'] = ohlc_data.pop('timestamp')\n",
    "    ohlc_data['volume_btc'] = ohlc_data.pop('volume')\n",
    "    # Convert the Unix timestamp to UTC time\n",
    "    ohlc_data['date'] = datetime.datetime.utcfromtimestamp(int(ohlc_data['unix'])).strftime('%Y-%m-%dT%H:%M:%S')\n",
    "    # PROD\n",
    "    # ohlc_data['symbol'] = bitstamp_data['pair']\n",
    "\n",
    "    # TEST\n",
    "    ohlc_data['symbol'] = 'TEST'\n",
    "\n",
    "    # Convert the timestamp to datetime and localize it to UTC\n",
    "    dt = datetime.datetime.fromtimestamp(int(ohlc_data['unix']), tz=pytz.UTC)\n",
    "    # Convert the datetime to Kuala Lumpur time\n",
    "    kl_time = dt.astimezone(pytz.timezone('Asia/Kuala_Lumpur'))\n",
    "    ohlc_data['local_date'] = kl_time.strftime('%Y-%m-%dT%H:%M:%S')\n",
    "\n",
    "    # Convert 'volume' and 'close' to float before multiplication\n",
    "    ohlc_data['volume_usd'] = float(ohlc_data['volume_btc']) * float(ohlc_data['close'])\n",
    "    ohlc_json = json.dumps(ohlc_data)\n",
    "    display(ohlc_json)\n",
    "    # Convert the string to a dictionary\n",
    "    ohlc_data_dict = json.loads(ohlc_json)\n",
    "\n",
    "except Exception as e:\n",
    "    print(e)\n",
    "    error = {\n",
    "        \"error_message\": e.message if hasattr(e, 'message') else str(e),\n",
    "        \"error_source\": 'when calling bitstamp official api',\n",
    "        \"error_type\": 'bitstamp api error',\n",
    "        \"error_content\": data.to_dict() if hasattr(data, 'to_dict') else str(data)\n",
    "    }\n",
    "    requests.post(error_log_url, data=error)"
   ]
  },
  {
   "cell_type": "code",
   "execution_count": 86,
   "metadata": {},
   "outputs": [
    {
     "data": {
      "text/plain": [
       "{'close': '51759',\n",
       " 'high': '51763',\n",
       " 'low': '51706',\n",
       " 'open': '51735',\n",
       " 'timestamp': '1708873200',\n",
       " 'volume': '0.79554625'}"
      ]
     },
     "metadata": {},
     "output_type": "display_data"
    },
    {
     "data": {
      "text/plain": [
       "'BTC/USD'"
      ]
     },
     "metadata": {},
     "output_type": "display_data"
    }
   ],
   "source": [
    "data = requests.get(ohlc_url)\n",
    "bitstamp_data = data.json()['data']\n",
    "ohlc_data = bitstamp_data['ohlc'][0]\n",
    "display(ohlc_data)\n",
    "display(bitstamp_data['pair'])"
   ]
  },
  {
   "cell_type": "code",
   "execution_count": 87,
   "metadata": {},
   "outputs": [],
   "source": [
    "ohlc_data['unix'] = ohlc_data.pop('timestamp')\n",
    "ohlc_data['volume_btc'] = ohlc_data.pop('volume')"
   ]
  },
  {
   "cell_type": "code",
   "execution_count": 18,
   "metadata": {},
   "outputs": [
    {
     "name": "stderr",
     "output_type": "stream",
     "text": [
      "C:\\Users\\Zhong_ming_Tan\\AppData\\Local\\Temp\\ipykernel_42892\\2063910475.py:2: DeprecationWarning: datetime.datetime.utcfromtimestamp() is deprecated and scheduled for removal in a future version. Use timezone-aware objects to represent datetimes in UTC: datetime.datetime.fromtimestamp(timestamp, datetime.UTC).\n",
      "  ohlc_data['date'] = datetime.datetime.utcfromtimestamp(int(ohlc_data['unix'])).strftime('%Y-%m-%dT%H:%M:%S')\n"
     ]
    },
    {
     "data": {
      "text/plain": [
       "'{\"close\": \"51553\", \"high\": \"51763\", \"low\": \"51441\", \"open\": \"51735\", \"unix\": \"1708873200\", \"volume_btc\": \"42.58957250\", \"date\": \"2024-02-25T15:00:00\", \"symbol\": \"TEST\", \"local_date\": \"2024-02-25T23:00:00\", \"volume_usd\": 2195620.2310925}'"
      ]
     },
     "metadata": {},
     "output_type": "display_data"
    }
   ],
   "source": [
    "# Convert the Unix timestamp to UTC time\n",
    "ohlc_data['date'] = datetime.datetime.utcfromtimestamp(int(ohlc_data['unix'])).strftime('%Y-%m-%dT%H:%M:%S')\n",
    "# PROD\n",
    "# ohlc_data['symbol'] = bitstamp_data['pair']\n",
    "\n",
    "# TEST\n",
    "ohlc_data['symbol'] = 'TEST'\n",
    "\n",
    "# Convert the timestamp to datetime and localize it to UTC\n",
    "dt = datetime.datetime.fromtimestamp(int(ohlc_data['unix']), tz=pytz.UTC)\n",
    "# Convert the datetime to Kuala Lumpur time\n",
    "kl_time = dt.astimezone(pytz.timezone('Asia/Kuala_Lumpur'))\n",
    "ohlc_data['local_date'] = kl_time.strftime('%Y-%m-%dT%H:%M:%S')\n",
    "\n",
    "# Convert 'volume' and 'close' to float before multiplication\n",
    "ohlc_data['volume_usd'] = float(ohlc_data['volume_btc']) * float(ohlc_data['close'])\n",
    "ohlc_json = json.dumps(ohlc_data)\n",
    "# Convert the string to a dictionary\n",
    "ohlc_data_dict = json.loads(ohlc_json)\n",
    "display(ohlc_json)"
   ]
  },
  {
   "cell_type": "code",
   "execution_count": 19,
   "metadata": {},
   "outputs": [
    {
     "data": {
      "text/plain": [
       "'{\"close\": \"51553\", \"high\": \"51763\", \"low\": \"51441\", \"open\": \"51735\", \"unix\": \"1708873200\", \"volume_btc\": \"42.58957250\", \"date\": \"2024-02-25T15:00:00\", \"symbol\": \"TEST\", \"local_date\": \"2024-02-25T23:00:00\", \"volume_usd\": 2195620.2310925}'"
      ]
     },
     "execution_count": 19,
     "metadata": {},
     "output_type": "execute_result"
    }
   ],
   "source": [
    "ohlc_json"
   ]
  },
  {
   "cell_type": "code",
   "execution_count": 25,
   "metadata": {},
   "outputs": [],
   "source": [
    "# Convert the string to a dictionary\n",
    "ohlc_data_dict = json.loads(ohlc_json)\n",
    "\n",
    "# Send the data to the API with a POST request\n",
    "response = requests.post(hour_url, json=ohlc_data_dict)\n"
   ]
  },
  {
   "cell_type": "code",
   "execution_count": 24,
   "metadata": {},
   "outputs": [
    {
     "data": {
      "text/plain": [
       "'{\"id\":6760,\"unix\":1708873200,\"date\":\"2024-02-25T15:00:00Z\",\"local_date\":\"2024-02-25T23:00:00Z\",\"symbol\":\"TEST\",\"open\":\"51735.0000000000\",\"high\":\"51763.0000000000\",\"low\":\"51441.0000000000\",\"close\":\"51553.0000000000\",\"volume_btc\":\"42.5895725000\",\"volume_usd\":\"2195620.2310925000\",\"added_at\":\"2024-02-25T15:56:18.102090Z\"}'"
      ]
     },
     "execution_count": 24,
     "metadata": {},
     "output_type": "execute_result"
    }
   ],
   "source": [
    "response.text"
   ]
  },
  {
   "cell_type": "code",
   "execution_count": 27,
   "metadata": {},
   "outputs": [
    {
     "name": "stdout",
     "output_type": "stream",
     "text": [
      "Data successfully added to the database\n"
     ]
    }
   ],
   "source": [
    "try:\n",
    "    response = requests.post(hour_url, json=ohlc_data_dict)\n",
    "    if response.status_code == 200:\n",
    "        print('Data successfully added to the database')\n",
    "    else:\n",
    "\n",
    "        error_data = {\n",
    "            \"error_source\": 'Hourly Bitstamp API',\n",
    "            \"error_type\": response.status_code,\n",
    "            \"error_content\": response.text,\n",
    "            \"error_message\": \"Calling bitstamp store api\"\n",
    "        }\n",
    "        requests.post(error_log_url, json=error_data)\n",
    "except requests.exceptions.RequestException as e:\n",
    "    error_data = {\n",
    "    \"error_source\": 'Hourly Bitstamp API',\n",
    "    \"error_type\": e,\n",
    "    \"error_content\": e.to_string(),\n",
    "    \"error_message\": \"Calling bitstamp store api\"\n",
    "    }\n",
    "    requests.post(error_log_url, json=error_data)\n",
    "    print(e)"
   ]
  },
  {
   "cell_type": "markdown",
   "metadata": {},
   "source": [
    "=================\n"
   ]
  },
  {
   "cell_type": "code",
   "execution_count": 40,
   "metadata": {},
   "outputs": [
    {
     "name": "stderr",
     "output_type": "stream",
     "text": [
      "C:\\Users\\Zhong_ming_Tan\\AppData\\Local\\Temp\\ipykernel_18692\\2030987883.py:3: DeprecationWarning: datetime.datetime.utcfromtimestamp() is deprecated and scheduled for removal in a future version. Use timezone-aware objects to represent datetimes in UTC: datetime.datetime.fromtimestamp(timestamp, datetime.UTC).\n",
      "  bitstamp_data['date'] = datetime.datetime.utcfromtimestamp(int(bitstamp_data['unix'])).strftime('%Y-%m-%dT%H:%M:%S')\n"
     ]
    }
   ],
   "source": [
    "bitstamp_data['unix'] = bitstamp_data.pop('timestamp')\n",
    "# Convert the Unix timestamp to UTC time\n",
    "bitstamp_data['date'] = datetime.datetime.utcfromtimestamp(int(bitstamp_data['unix'])).strftime('%Y-%m-%dT%H:%M:%S')\n",
    "bitstamp_data['symbol'] = \"BTC/USD\""
   ]
  },
  {
   "cell_type": "code",
   "execution_count": 39,
   "metadata": {},
   "outputs": [
    {
     "name": "stdout",
     "output_type": "stream",
     "text": [
      "{\"timestamp\": \"1708872619\", \"open\": \"51564\", \"high\": \"51870\", \"low\": \"51076\", \"last\": \"51738\", \"volume\": \"532.61435771\", \"vwap\": \"51574\", \"bid\": \"51731\", \"ask\": \"51737\", \"side\": \"0\", \"open_24\": \"51083\", \"percent_change_24\": \"1.28\", \"local_date\": \"2024-02-25T22:50:19\"}\n"
     ]
    }
   ],
   "source": [
    "bitstamp_data_json = json.dumps(bitstamp_data)\n",
    "print(bitstamp_data_json)"
   ]
  },
  {
   "cell_type": "code",
   "execution_count": 22,
   "metadata": {},
   "outputs": [],
   "source": [
    "# Define the API endpoint\n",
    "url = \"http://127.0.0.1:8000/scrap/api/bitstamp/add\""
   ]
  },
  {
   "cell_type": "code",
   "execution_count": 18,
   "metadata": {},
   "outputs": [],
   "source": [
    "# Send the data to the API with a POST request\n",
    "response = requests.post(url, json=response.json())"
   ]
  },
  {
   "cell_type": "markdown",
   "metadata": {},
   "source": [
    "Get Historical Data"
   ]
  },
  {
   "cell_type": "code",
   "execution_count": 12,
   "metadata": {},
   "outputs": [],
   "source": [
    "# import pandas as pd\n",
    "# data_json = data.json()\n",
    "# df = pd.DataFrame(data_json, index=[0])\n",
    "# df['timestamp'] = pd.to_datetime(df['timestamp'], unit='s').dt.tz_localize('UTC').dt.tz_convert('Asia/Kuala_Lumpur')"
   ]
  },
  {
   "cell_type": "code",
   "execution_count": 50,
   "metadata": {},
   "outputs": [
    {
     "name": "stdout",
     "output_type": "stream",
     "text": [
      "Today's date: 2024-02-25 Yesterday's date: 2024-02-24\n",
      "[1708819200]\n"
     ]
    },
    {
     "name": "stderr",
     "output_type": "stream",
     "text": [
      "C:\\Users\\Zhong_ming_Tan\\AppData\\Local\\Temp\\ipykernel_20520\\360508556.py:18: FutureWarning: 'H' is deprecated and will be removed in a future version, please use 'h' instead.\n",
      "  dates = pd.date_range(today.strftime('%Y-%m-%d'), today.strftime('%Y-%m-%d'), freq = \"1H\")\n"
     ]
    }
   ],
   "source": [
    "import json\n",
    "import requests\n",
    "import pandas as pd\n",
    "import datetime\n",
    "from datetime import date, timedelta\n",
    "\n",
    "currency_pair = \"btcusd\"\n",
    "url = f\"https://www.bitstamp.net/api/v2/ohlc/{currency_pair}/\"\n",
    "\n",
    "start = \"2021-01-01\"\n",
    "end = \"2021-01-02\"\n",
    "\n",
    "today = date.today()\n",
    "# Get yesterday's date\n",
    "yesterday = today - timedelta(days=1)\n",
    "print(\"Today's date:\", today.strftime('%Y-%m-%d'), \"Yesterday's date:\", yesterday.strftime('%Y-%m-%d'))\n",
    "\n",
    "dates = pd.date_range(today.strftime('%Y-%m-%d'), today.strftime('%Y-%m-%d'), freq = \"1H\")\n",
    "dates  = [ int(x.value/10**9) for x in list(dates)]\n",
    "\n",
    "print(dates)\n",
    "\n",
    "master_data = []\n",
    "\n",
    "for first, last in zip(dates, dates[1:]):\n",
    "    print(first,last)\n",
    "\n",
    "    params = {\n",
    "            \"step\":60,\n",
    "            \"limit\":1,\n",
    "            \"start\":first,\n",
    "            \"end\":last\n",
    "            }\n",
    "\n",
    "    data = requests.get(url, params = params)\n",
    "\n",
    "    data = data.json()[\"data\"][\"ohlc\"]\n",
    "\n",
    "    master_data += data"
   ]
  },
  {
   "cell_type": "code",
   "execution_count": 51,
   "metadata": {},
   "outputs": [
    {
     "data": {
      "text/html": [
       "<div>\n",
       "<style scoped>\n",
       "    .dataframe tbody tr th:only-of-type {\n",
       "        vertical-align: middle;\n",
       "    }\n",
       "\n",
       "    .dataframe tbody tr th {\n",
       "        vertical-align: top;\n",
       "    }\n",
       "\n",
       "    .dataframe thead th {\n",
       "        text-align: right;\n",
       "    }\n",
       "</style>\n",
       "<table border=\"1\" class=\"dataframe\">\n",
       "  <thead>\n",
       "    <tr style=\"text-align: right;\">\n",
       "      <th></th>\n",
       "    </tr>\n",
       "  </thead>\n",
       "  <tbody>\n",
       "  </tbody>\n",
       "</table>\n",
       "</div>"
      ],
      "text/plain": [
       "Empty DataFrame\n",
       "Columns: []\n",
       "Index: []"
      ]
     },
     "execution_count": 51,
     "metadata": {},
     "output_type": "execute_result"
    }
   ],
   "source": [
    "df = pd.DataFrame(master_data)\n",
    "df.head()"
   ]
  },
  {
   "cell_type": "code",
   "execution_count": 47,
   "metadata": {},
   "outputs": [
    {
     "ename": "KeyError",
     "evalue": "'timestamp'",
     "output_type": "error",
     "traceback": [
      "\u001b[1;31m---------------------------------------------------------------------------\u001b[0m",
      "\u001b[1;31mKeyError\u001b[0m                                  Traceback (most recent call last)",
      "Cell \u001b[1;32mIn[47], line 2\u001b[0m\n\u001b[0;32m      1\u001b[0m \u001b[38;5;28;01mimport\u001b[39;00m \u001b[38;5;21;01mpandas\u001b[39;00m \u001b[38;5;28;01mas\u001b[39;00m \u001b[38;5;21;01mpd\u001b[39;00m\n\u001b[1;32m----> 2\u001b[0m df[\u001b[38;5;124m'\u001b[39m\u001b[38;5;124mlocal_date\u001b[39m\u001b[38;5;124m'\u001b[39m] \u001b[38;5;241m=\u001b[39m pd\u001b[38;5;241m.\u001b[39mto_datetime(\u001b[43mdf\u001b[49m\u001b[43m[\u001b[49m\u001b[38;5;124;43m'\u001b[39;49m\u001b[38;5;124;43mtimestamp\u001b[39;49m\u001b[38;5;124;43m'\u001b[39;49m\u001b[43m]\u001b[49m, unit\u001b[38;5;241m=\u001b[39m\u001b[38;5;124m'\u001b[39m\u001b[38;5;124ms\u001b[39m\u001b[38;5;124m'\u001b[39m)\u001b[38;5;241m.\u001b[39mdt\u001b[38;5;241m.\u001b[39mtz_localize(\u001b[38;5;124m'\u001b[39m\u001b[38;5;124mUTC\u001b[39m\u001b[38;5;124m'\u001b[39m)\u001b[38;5;241m.\u001b[39mdt\u001b[38;5;241m.\u001b[39mtz_convert(\u001b[38;5;124m'\u001b[39m\u001b[38;5;124mAsia/Kuala_Lumpur\u001b[39m\u001b[38;5;124m'\u001b[39m)\n",
      "File \u001b[1;32mc:\\Users\\Zhong_ming_Tan\\AppData\\Local\\anaconda3\\envs\\fws-dell\\Lib\\site-packages\\pandas\\core\\frame.py:4090\u001b[0m, in \u001b[0;36mDataFrame.__getitem__\u001b[1;34m(self, key)\u001b[0m\n\u001b[0;32m   4088\u001b[0m \u001b[38;5;28;01mif\u001b[39;00m \u001b[38;5;28mself\u001b[39m\u001b[38;5;241m.\u001b[39mcolumns\u001b[38;5;241m.\u001b[39mnlevels \u001b[38;5;241m>\u001b[39m \u001b[38;5;241m1\u001b[39m:\n\u001b[0;32m   4089\u001b[0m     \u001b[38;5;28;01mreturn\u001b[39;00m \u001b[38;5;28mself\u001b[39m\u001b[38;5;241m.\u001b[39m_getitem_multilevel(key)\n\u001b[1;32m-> 4090\u001b[0m indexer \u001b[38;5;241m=\u001b[39m \u001b[38;5;28;43mself\u001b[39;49m\u001b[38;5;241;43m.\u001b[39;49m\u001b[43mcolumns\u001b[49m\u001b[38;5;241;43m.\u001b[39;49m\u001b[43mget_loc\u001b[49m\u001b[43m(\u001b[49m\u001b[43mkey\u001b[49m\u001b[43m)\u001b[49m\n\u001b[0;32m   4091\u001b[0m \u001b[38;5;28;01mif\u001b[39;00m is_integer(indexer):\n\u001b[0;32m   4092\u001b[0m     indexer \u001b[38;5;241m=\u001b[39m [indexer]\n",
      "File \u001b[1;32mc:\\Users\\Zhong_ming_Tan\\AppData\\Local\\anaconda3\\envs\\fws-dell\\Lib\\site-packages\\pandas\\core\\indexes\\range.py:417\u001b[0m, in \u001b[0;36mRangeIndex.get_loc\u001b[1;34m(self, key)\u001b[0m\n\u001b[0;32m    415\u001b[0m         \u001b[38;5;28;01mraise\u001b[39;00m \u001b[38;5;167;01mKeyError\u001b[39;00m(key) \u001b[38;5;28;01mfrom\u001b[39;00m \u001b[38;5;21;01merr\u001b[39;00m\n\u001b[0;32m    416\u001b[0m \u001b[38;5;28;01mif\u001b[39;00m \u001b[38;5;28misinstance\u001b[39m(key, Hashable):\n\u001b[1;32m--> 417\u001b[0m     \u001b[38;5;28;01mraise\u001b[39;00m \u001b[38;5;167;01mKeyError\u001b[39;00m(key)\n\u001b[0;32m    418\u001b[0m \u001b[38;5;28mself\u001b[39m\u001b[38;5;241m.\u001b[39m_check_indexing_error(key)\n\u001b[0;32m    419\u001b[0m \u001b[38;5;28;01mraise\u001b[39;00m \u001b[38;5;167;01mKeyError\u001b[39;00m(key)\n",
      "\u001b[1;31mKeyError\u001b[0m: 'timestamp'"
     ]
    }
   ],
   "source": [
    "import pandas as pd\n",
    "df['local_date'] = pd.to_datetime(df['timestamp'], unit='s').dt.tz_localize('UTC').dt.tz_convert('Asia/Kuala_Lumpur')"
   ]
  },
  {
   "cell_type": "code",
   "execution_count": 43,
   "metadata": {},
   "outputs": [
    {
     "data": {
      "text/html": [
       "<div>\n",
       "<style scoped>\n",
       "    .dataframe tbody tr th:only-of-type {\n",
       "        vertical-align: middle;\n",
       "    }\n",
       "\n",
       "    .dataframe tbody tr th {\n",
       "        vertical-align: top;\n",
       "    }\n",
       "\n",
       "    .dataframe thead th {\n",
       "        text-align: right;\n",
       "    }\n",
       "</style>\n",
       "<table border=\"1\" class=\"dataframe\">\n",
       "  <thead>\n",
       "    <tr style=\"text-align: right;\">\n",
       "      <th></th>\n",
       "      <th>close</th>\n",
       "      <th>high</th>\n",
       "      <th>low</th>\n",
       "      <th>open</th>\n",
       "      <th>timestamp</th>\n",
       "      <th>volume</th>\n",
       "      <th>local_date</th>\n",
       "    </tr>\n",
       "  </thead>\n",
       "  <tbody>\n",
       "    <tr>\n",
       "      <th>0</th>\n",
       "      <td>50858</td>\n",
       "      <td>50884</td>\n",
       "      <td>50855</td>\n",
       "      <td>50884</td>\n",
       "      <td>1708736400</td>\n",
       "      <td>0.06373954</td>\n",
       "      <td>2024-02-24 08:59:44+08:00</td>\n",
       "    </tr>\n",
       "    <tr>\n",
       "      <th>1</th>\n",
       "      <td>50622</td>\n",
       "      <td>50622</td>\n",
       "      <td>50592</td>\n",
       "      <td>50592</td>\n",
       "      <td>1708740000</td>\n",
       "      <td>0.01454434</td>\n",
       "      <td>2024-02-24 09:59:28+08:00</td>\n",
       "    </tr>\n",
       "    <tr>\n",
       "      <th>2</th>\n",
       "      <td>50764</td>\n",
       "      <td>50789</td>\n",
       "      <td>50759</td>\n",
       "      <td>50789</td>\n",
       "      <td>1708743600</td>\n",
       "      <td>0.02827627</td>\n",
       "      <td>2024-02-24 10:59:12+08:00</td>\n",
       "    </tr>\n",
       "    <tr>\n",
       "      <th>3</th>\n",
       "      <td>50839</td>\n",
       "      <td>50841</td>\n",
       "      <td>50834</td>\n",
       "      <td>50841</td>\n",
       "      <td>1708747200</td>\n",
       "      <td>0.58190849</td>\n",
       "      <td>2024-02-24 12:01:04+08:00</td>\n",
       "    </tr>\n",
       "    <tr>\n",
       "      <th>4</th>\n",
       "      <td>50975</td>\n",
       "      <td>50975</td>\n",
       "      <td>50946</td>\n",
       "      <td>50946</td>\n",
       "      <td>1708750800</td>\n",
       "      <td>0.01132726</td>\n",
       "      <td>2024-02-24 13:00:48+08:00</td>\n",
       "    </tr>\n",
       "    <tr>\n",
       "      <th>5</th>\n",
       "      <td>51038</td>\n",
       "      <td>51043</td>\n",
       "      <td>51038</td>\n",
       "      <td>51041</td>\n",
       "      <td>1708754400</td>\n",
       "      <td>0.03393921</td>\n",
       "      <td>2024-02-24 14:00:32+08:00</td>\n",
       "    </tr>\n",
       "    <tr>\n",
       "      <th>6</th>\n",
       "      <td>50954</td>\n",
       "      <td>50954</td>\n",
       "      <td>50944</td>\n",
       "      <td>50946</td>\n",
       "      <td>1708758000</td>\n",
       "      <td>0.01913675</td>\n",
       "      <td>2024-02-24 15:00:16+08:00</td>\n",
       "    </tr>\n",
       "    <tr>\n",
       "      <th>7</th>\n",
       "      <td>51064</td>\n",
       "      <td>51064</td>\n",
       "      <td>51061</td>\n",
       "      <td>51061</td>\n",
       "      <td>1708761600</td>\n",
       "      <td>0.00632000</td>\n",
       "      <td>2024-02-24 16:00:00+08:00</td>\n",
       "    </tr>\n",
       "    <tr>\n",
       "      <th>8</th>\n",
       "      <td>50984</td>\n",
       "      <td>50984</td>\n",
       "      <td>50984</td>\n",
       "      <td>50984</td>\n",
       "      <td>1708765200</td>\n",
       "      <td>0.00297000</td>\n",
       "      <td>2024-02-24 16:59:44+08:00</td>\n",
       "    </tr>\n",
       "    <tr>\n",
       "      <th>9</th>\n",
       "      <td>51092</td>\n",
       "      <td>51092</td>\n",
       "      <td>51092</td>\n",
       "      <td>51092</td>\n",
       "      <td>1708768800</td>\n",
       "      <td>0.17028794</td>\n",
       "      <td>2024-02-24 17:59:28+08:00</td>\n",
       "    </tr>\n",
       "    <tr>\n",
       "      <th>10</th>\n",
       "      <td>51073</td>\n",
       "      <td>51073</td>\n",
       "      <td>51073</td>\n",
       "      <td>51073</td>\n",
       "      <td>1708772400</td>\n",
       "      <td>0.00000000</td>\n",
       "      <td>2024-02-24 18:59:12+08:00</td>\n",
       "    </tr>\n",
       "    <tr>\n",
       "      <th>11</th>\n",
       "      <td>51112</td>\n",
       "      <td>51119</td>\n",
       "      <td>51112</td>\n",
       "      <td>51118</td>\n",
       "      <td>1708776000</td>\n",
       "      <td>0.05710303</td>\n",
       "      <td>2024-02-24 19:58:56+08:00</td>\n",
       "    </tr>\n",
       "    <tr>\n",
       "      <th>12</th>\n",
       "      <td>51084</td>\n",
       "      <td>51084</td>\n",
       "      <td>51069</td>\n",
       "      <td>51069</td>\n",
       "      <td>1708779600</td>\n",
       "      <td>0.00627939</td>\n",
       "      <td>2024-02-24 21:00:48+08:00</td>\n",
       "    </tr>\n",
       "    <tr>\n",
       "      <th>13</th>\n",
       "      <td>51136</td>\n",
       "      <td>51142</td>\n",
       "      <td>51136</td>\n",
       "      <td>51141</td>\n",
       "      <td>1708783200</td>\n",
       "      <td>0.03476935</td>\n",
       "      <td>2024-02-24 22:00:32+08:00</td>\n",
       "    </tr>\n",
       "    <tr>\n",
       "      <th>14</th>\n",
       "      <td>51134</td>\n",
       "      <td>51134</td>\n",
       "      <td>51134</td>\n",
       "      <td>51134</td>\n",
       "      <td>1708786800</td>\n",
       "      <td>0.00110686</td>\n",
       "      <td>2024-02-24 23:00:16+08:00</td>\n",
       "    </tr>\n",
       "    <tr>\n",
       "      <th>15</th>\n",
       "      <td>51095</td>\n",
       "      <td>51099</td>\n",
       "      <td>51094</td>\n",
       "      <td>51099</td>\n",
       "      <td>1708790400</td>\n",
       "      <td>0.02021000</td>\n",
       "      <td>2024-02-25 00:00:00+08:00</td>\n",
       "    </tr>\n",
       "    <tr>\n",
       "      <th>16</th>\n",
       "      <td>51230</td>\n",
       "      <td>51230</td>\n",
       "      <td>51202</td>\n",
       "      <td>51202</td>\n",
       "      <td>1708794000</td>\n",
       "      <td>3.06394869</td>\n",
       "      <td>2024-02-25 00:59:44+08:00</td>\n",
       "    </tr>\n",
       "    <tr>\n",
       "      <th>17</th>\n",
       "      <td>51560</td>\n",
       "      <td>51560</td>\n",
       "      <td>51513</td>\n",
       "      <td>51516</td>\n",
       "      <td>1708797600</td>\n",
       "      <td>1.29175544</td>\n",
       "      <td>2024-02-25 01:59:28+08:00</td>\n",
       "    </tr>\n",
       "    <tr>\n",
       "      <th>18</th>\n",
       "      <td>51472</td>\n",
       "      <td>51472</td>\n",
       "      <td>51440</td>\n",
       "      <td>51440</td>\n",
       "      <td>1708801200</td>\n",
       "      <td>0.12888532</td>\n",
       "      <td>2024-02-25 02:59:12+08:00</td>\n",
       "    </tr>\n",
       "    <tr>\n",
       "      <th>19</th>\n",
       "      <td>51563</td>\n",
       "      <td>51568</td>\n",
       "      <td>51559</td>\n",
       "      <td>51559</td>\n",
       "      <td>1708804800</td>\n",
       "      <td>1.02354041</td>\n",
       "      <td>2024-02-25 04:01:04+08:00</td>\n",
       "    </tr>\n",
       "    <tr>\n",
       "      <th>20</th>\n",
       "      <td>51479</td>\n",
       "      <td>51505</td>\n",
       "      <td>51479</td>\n",
       "      <td>51505</td>\n",
       "      <td>1708808400</td>\n",
       "      <td>0.09297316</td>\n",
       "      <td>2024-02-25 05:00:48+08:00</td>\n",
       "    </tr>\n",
       "    <tr>\n",
       "      <th>21</th>\n",
       "      <td>51568</td>\n",
       "      <td>51568</td>\n",
       "      <td>51554</td>\n",
       "      <td>51557</td>\n",
       "      <td>1708812000</td>\n",
       "      <td>0.20558000</td>\n",
       "      <td>2024-02-25 06:00:32+08:00</td>\n",
       "    </tr>\n",
       "    <tr>\n",
       "      <th>22</th>\n",
       "      <td>51561</td>\n",
       "      <td>51566</td>\n",
       "      <td>51547</td>\n",
       "      <td>51553</td>\n",
       "      <td>1708815600</td>\n",
       "      <td>0.20899104</td>\n",
       "      <td>2024-02-25 07:00:16+08:00</td>\n",
       "    </tr>\n",
       "    <tr>\n",
       "      <th>23</th>\n",
       "      <td>51554</td>\n",
       "      <td>51573</td>\n",
       "      <td>51554</td>\n",
       "      <td>51564</td>\n",
       "      <td>1708819200</td>\n",
       "      <td>0.01754386</td>\n",
       "      <td>2024-02-25 08:00:00+08:00</td>\n",
       "    </tr>\n",
       "  </tbody>\n",
       "</table>\n",
       "</div>"
      ],
      "text/plain": [
       "    close   high    low   open   timestamp      volume  \\\n",
       "0   50858  50884  50855  50884  1708736400  0.06373954   \n",
       "1   50622  50622  50592  50592  1708740000  0.01454434   \n",
       "2   50764  50789  50759  50789  1708743600  0.02827627   \n",
       "3   50839  50841  50834  50841  1708747200  0.58190849   \n",
       "4   50975  50975  50946  50946  1708750800  0.01132726   \n",
       "5   51038  51043  51038  51041  1708754400  0.03393921   \n",
       "6   50954  50954  50944  50946  1708758000  0.01913675   \n",
       "7   51064  51064  51061  51061  1708761600  0.00632000   \n",
       "8   50984  50984  50984  50984  1708765200  0.00297000   \n",
       "9   51092  51092  51092  51092  1708768800  0.17028794   \n",
       "10  51073  51073  51073  51073  1708772400  0.00000000   \n",
       "11  51112  51119  51112  51118  1708776000  0.05710303   \n",
       "12  51084  51084  51069  51069  1708779600  0.00627939   \n",
       "13  51136  51142  51136  51141  1708783200  0.03476935   \n",
       "14  51134  51134  51134  51134  1708786800  0.00110686   \n",
       "15  51095  51099  51094  51099  1708790400  0.02021000   \n",
       "16  51230  51230  51202  51202  1708794000  3.06394869   \n",
       "17  51560  51560  51513  51516  1708797600  1.29175544   \n",
       "18  51472  51472  51440  51440  1708801200  0.12888532   \n",
       "19  51563  51568  51559  51559  1708804800  1.02354041   \n",
       "20  51479  51505  51479  51505  1708808400  0.09297316   \n",
       "21  51568  51568  51554  51557  1708812000  0.20558000   \n",
       "22  51561  51566  51547  51553  1708815600  0.20899104   \n",
       "23  51554  51573  51554  51564  1708819200  0.01754386   \n",
       "\n",
       "                  local_date  \n",
       "0  2024-02-24 08:59:44+08:00  \n",
       "1  2024-02-24 09:59:28+08:00  \n",
       "2  2024-02-24 10:59:12+08:00  \n",
       "3  2024-02-24 12:01:04+08:00  \n",
       "4  2024-02-24 13:00:48+08:00  \n",
       "5  2024-02-24 14:00:32+08:00  \n",
       "6  2024-02-24 15:00:16+08:00  \n",
       "7  2024-02-24 16:00:00+08:00  \n",
       "8  2024-02-24 16:59:44+08:00  \n",
       "9  2024-02-24 17:59:28+08:00  \n",
       "10 2024-02-24 18:59:12+08:00  \n",
       "11 2024-02-24 19:58:56+08:00  \n",
       "12 2024-02-24 21:00:48+08:00  \n",
       "13 2024-02-24 22:00:32+08:00  \n",
       "14 2024-02-24 23:00:16+08:00  \n",
       "15 2024-02-25 00:00:00+08:00  \n",
       "16 2024-02-25 00:59:44+08:00  \n",
       "17 2024-02-25 01:59:28+08:00  \n",
       "18 2024-02-25 02:59:12+08:00  \n",
       "19 2024-02-25 04:01:04+08:00  \n",
       "20 2024-02-25 05:00:48+08:00  \n",
       "21 2024-02-25 06:00:32+08:00  \n",
       "22 2024-02-25 07:00:16+08:00  \n",
       "23 2024-02-25 08:00:00+08:00  "
      ]
     },
     "execution_count": 43,
     "metadata": {},
     "output_type": "execute_result"
    }
   ],
   "source": [
    "df.head(60)"
   ]
  }
 ],
 "metadata": {
  "kernelspec": {
   "display_name": "fws-dell",
   "language": "python",
   "name": "python3"
  },
  "language_info": {
   "codemirror_mode": {
    "name": "ipython",
    "version": 3
   },
   "file_extension": ".py",
   "mimetype": "text/x-python",
   "name": "python",
   "nbconvert_exporter": "python",
   "pygments_lexer": "ipython3",
   "version": "3.12.1"
  }
 },
 "nbformat": 4,
 "nbformat_minor": 2
}
