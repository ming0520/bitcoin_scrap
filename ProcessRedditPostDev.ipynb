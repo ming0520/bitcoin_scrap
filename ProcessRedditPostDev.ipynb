{
 "cells": [
  {
   "cell_type": "markdown",
   "metadata": {},
   "source": [
    "\n",
    "\n",
    " get data from api link 'http://127.0.0.1:8000/scrap/api/post/post_id' by using post_id '1awxs2w'\n",
    " "
   ]
  },
  {
   "cell_type": "code",
   "execution_count": 3,
   "metadata": {},
   "outputs": [],
   "source": [
    "# http://127.0.0.1:8000/scrap/api/post/1awxs2w/?format=api"
   ]
  },
  {
   "cell_type": "code",
   "execution_count": 6,
   "metadata": {},
   "outputs": [
    {
     "name": "stdout",
     "output_type": "stream",
     "text": [
      "{'id': 24, 'post_id': '1awxs2w', 'title': 'Support sovereign businesses 👇', 'raw_text': \"The LeatherMint is a fully sovereign buisness. Bitcoin is the only way to achieve that and we're leaning into it fully. Every sale is great support and help us grow.\\n\\nTake a look around, you might find something that fits your sats :)\\n\\n(Still not self hosted (bluehost) but will work on that.)\", 'created_at': '2024-02-22T12:46:52Z', 'added_at': '2024-02-22T10:15:55.371452Z', 'platform_source': 'Reddit', 'post_url': '/r/Bitcoin/comments/1awxs2w/support_sovereign_businesses/', 'author_name': 'TheLeatherMint', 'author_id': 'gagq08k6k', 'post_score': 3}\n"
     ]
    }
   ],
   "source": [
    "import requests\n",
    "# get data from api link 'http://127.0.0.1:8000/scrap/api/post/post_id' by using post_id '1awxs2w'\n",
    "# define the api endpoint\n",
    "# define the post id\n",
    "post_id = '1awxs2w'\n",
    "api_endpoint = f'http://127.0.0.1:8000/scrap/api/post/'\n",
    "\n",
    "# create the url\n",
    "url = api_endpoint + post_id\n",
    "\n",
    "# send a GET request to the API\n",
    "response = requests.get(url)\n",
    "\n",
    "# print the response\n",
    "print(response.json())\n"
   ]
  }
 ],
 "metadata": {
  "kernelspec": {
   "display_name": "fws-dell",
   "language": "python",
   "name": "python3"
  },
  "language_info": {
   "codemirror_mode": {
    "name": "ipython",
    "version": 3
   },
   "file_extension": ".py",
   "mimetype": "text/x-python",
   "name": "python",
   "nbconvert_exporter": "python",
   "pygments_lexer": "ipython3",
   "version": "3.12.1"
  }
 },
 "nbformat": 4,
 "nbformat_minor": 2
}
